{
 "cells": [
  {
   "cell_type": "code",
   "execution_count": 392,
   "metadata": {},
   "outputs": [],
   "source": [
    "import json\n",
    "\n",
    "# Used to display points and shapes on a map\n",
    "from ipyleaflet import GeoJSON, Map\n",
    "\n",
    "# Main package\n",
    "from shape2geosparql import convert\n",
    "\n",
    "# Used to run geospatial queries on Fuseki\n",
    "from SPARQLWrapper import GET, JSON, POST, SPARQLWrapper"
   ]
  },
  {
   "cell_type": "markdown",
   "metadata": {},
   "source": [
    "### Converting the shapefile to triples"
   ]
  },
  {
   "cell_type": "code",
   "execution_count": 393,
   "metadata": {},
   "outputs": [],
   "source": [
    "# Convert a shapefile\n",
    "converter = convert('data/trento_stations/stazioni.shp')"
   ]
  },
  {
   "cell_type": "code",
   "execution_count": 394,
   "metadata": {},
   "outputs": [
    {
     "name": "stdout",
     "output_type": "stream",
     "text": [
      "<http://www.example.org/shape2geosparql/stazioni/data/9_geom> <http://www.w3.org/1999/02/22-rdf-syntax-ns#type> <http://www.opengis.net/ont/sf#Point> .\n",
      "<http://www.example.org/shape2geosparql/stazioni/data/5_geom> <http://www.opengis.net/ont/geosparql#asWKT> \"POINT (11.107593 46.12596)\"^^<http://www.opengis.net/ont/geosparql#wktLiteral> .\n",
      "<http://www.example.org/shape2geosparql/stazioni/data/3_geom> <http://www.w3.org/2003/01/geo/wgs84_pos#long> \"11.104557999999999\"^^<http://www.w3.org/2001/XMLSchema#double> .\n",
      "<http://www.example.org/shape2geosparql/stazioni/data/1_geom> <http://www.w3.org/1999/02/22-rdf-syntax-ns#type> <http://www.opengis.net/ont/sf#Geometry> .\n",
      "<http://www.example.org/shape2geosparql/stazioni/data/0_geom> <http://github.com/nvitucci/shape2geosparql/ontology#asGeoJson> \"{ \\\"type\\\": \\\"Point\\\", \\\"coordinates\\\": [ 11.120056, 46.0726 ] }\" .\n",
      "<http://www.example.org/shape2geosparql/stazioni/data/1> <http://www.w3.org/1999/02/22-rdf-syntax-ns#type> <http://www.opengis.net/ont/sf#Feature> .\n",
      "<http://www.example.org/shape2geosparql/stazioni/data/6> <http://www.opengis.net/ont/geosparql#hasGeometry> <http://www.example.org/shape2geosparql/stazioni/data/6_geom> .\n",
      "<http://www.example.org/shape2geosparql/stazioni/data/0_geom> <http://www.opengis.net/ont/geosparql#asWKT> \"POINT (11.120056 46.0726)\"^^<http://www.opengis.net/ont/geosparql#wktLiteral> .\n",
      "<http://www.example.org/shape2geosparql/stazioni/data/4> <http://www.opengis.net/ont/geosparql#hasGeometry> <http://www.example.org/shape2geosparql/stazioni/data/4_geom> .\n",
      "<http://www.example.org/shape2geosparql/stazioni/data/5_geom> <http://www.w3.org/1999/02/22-rdf-syntax-ns#type> <http://www.opengis.net/ont/sf#Point> .\n",
      "<http://www.example.org/shape2geosparql/stazioni/data/8_geom> <http://www.w3.org/1999/02/22-rdf-syntax-ns#type> <http://www.opengis.net/ont/sf#Geometry> .\n",
      "<http://www.example.org/shape2geosparql/stazioni/data/4> <http://www.w3.org/1999/02/22-rdf-syntax-ns#type> <http://www.opengis.net/ont/sf#Feature> .\n",
      "<http://www.example.org/shape2geosparql/stazioni/data/5> <http://www.example.org/shape2geosparql/stazioni/ontology/tratta> \"FTM\" .\n",
      "<http://www.example.org/shape2geosparql/stazioni/data/5_geom> <http://www.w3.org/1999/02/22-rdf-syntax-ns#type> <http://www.opengis.net/ont/sf#Geometry> .\n",
      "<http://www.example.org/shape2geosparql/stazioni/data/2_geom> <http://github.com/nvitucci/shape2geosparql/ontology#asGeoJson> \"{ \\\"type\\\": \\\"Point\\\", \\\"coordinates\\\": [ 11.11306, 46.09014 ] }\" .\n",
      "<http://www.example.org/shape2geosparql/stazioni/data/5> <http://www.example.org/shape2geosparql/stazioni/ontology/nome> \"FTM - Lamar\" .\n",
      "<http://www.example.org/shape2geosparql/stazioni/data/4_geom> <http://github.com/nvitucci/shape2geosparql/ontology#asGeoJson> \"{ \\\"type\\\": \\\"Point\\\", \\\"coordinates\\\": [ 11.104856, 46.118667 ] }\" .\n",
      "<http://www.example.org/shape2geosparql/stazioni/data/3_geom> <http://www.w3.org/2003/01/geo/wgs84_pos#lat> \"46.10809699999999\"^^<http://www.w3.org/2001/XMLSchema#double> .\n",
      "<http://www.example.org/shape2geosparql/stazioni/data/6> <http://www.example.org/shape2geosparql/stazioni/ontology/tratta> \"VALSUGANA\" .\n",
      "<http://www.example.org/shape2geosparql/stazioni/data/4> <http://www.example.org/shape2geosparql/stazioni/ontology/nome> \"FTM - Spini\" .\n",
      "<http://www.example.org/shape2geosparql/stazioni/data/6> <http://www.w3.org/1999/02/22-rdf-syntax-ns#type> <http://www.opengis.net/ont/sf#Feature> .\n",
      "<http://www.example.org/shape2geosparql/stazioni/data/8> <http://www.example.org/shape2geosparql/stazioni/ontology/nome> \"VALS - Villazzano\" .\n",
      "<http://www.example.org/shape2geosparql/stazioni/data/2_geom> <http://www.w3.org/2003/01/geo/wgs84_pos#lat> \"46.09013999999998\"^^<http://www.w3.org/2001/XMLSchema#double> .\n",
      "<http://www.example.org/shape2geosparql/stazioni/data/9_geom> <http://www.opengis.net/ont/geosparql#asWKT> \"POINT (11.142646 46.06487)\"^^<http://www.opengis.net/ont/geosparql#wktLiteral> .\n",
      "<http://www.example.org/shape2geosparql/stazioni/data/1_geom> <http://www.w3.org/2003/01/geo/wgs84_pos#lat> \"46.07438999999999\"^^<http://www.w3.org/2001/XMLSchema#double> .\n",
      "<http://www.example.org/shape2geosparql/stazioni/data/6_geom> <http://www.w3.org/2003/01/geo/wgs84_pos#lat> \"46.05438499999999\"^^<http://www.w3.org/2001/XMLSchema#double> .\n",
      "<http://www.example.org/shape2geosparql/stazioni/data/1> <http://www.example.org/shape2geosparql/stazioni/ontology/nome> \"FTM - Trento\" .\n",
      "<http://www.example.org/shape2geosparql/stazioni/data/0> <http://www.example.org/shape2geosparql/stazioni/ontology/nome> \"FS - Trento\" .\n",
      "<http://www.example.org/shape2geosparql/stazioni/data/4> <http://www.example.org/shape2geosparql/stazioni/ontology/tratta> \"FTM\" .\n",
      "<http://www.example.org/shape2geosparql/stazioni/data/7> <http://www.opengis.net/ont/geosparql#hasGeometry> <http://www.example.org/shape2geosparql/stazioni/data/7_geom> .\n",
      "<http://www.example.org/shape2geosparql/stazioni/data/9_geom> <http://www.w3.org/1999/02/22-rdf-syntax-ns#type> <http://www.opengis.net/ont/sf#Geometry> .\n",
      "<http://www.example.org/shape2geosparql/stazioni/data/7_geom> <http://github.com/nvitucci/shape2geosparql/ontology#asGeoJson> \"{ \\\"type\\\": \\\"Point\\\", \\\"coordinates\\\": [ 11.135147, 46.04746 ] }\" .\n",
      "<http://www.example.org/shape2geosparql/stazioni/data/6_geom> <http://www.w3.org/2003/01/geo/wgs84_pos#long> \"11.135439999999996\"^^<http://www.w3.org/2001/XMLSchema#double> .\n",
      "<http://www.example.org/shape2geosparql/stazioni/data/6_geom> <http://github.com/nvitucci/shape2geosparql/ontology#asGeoJson> \"{ \\\"type\\\": \\\"Point\\\", \\\"coordinates\\\": [ 11.13544, 46.054385 ] }\" .\n",
      "<http://www.example.org/shape2geosparql/stazioni/data/1> <http://www.example.org/shape2geosparql/stazioni/ontology/tratta> \"FTM\" .\n",
      "<http://www.example.org/shape2geosparql/stazioni/data/6_geom> <http://www.opengis.net/ont/geosparql#asWKT> \"POINT (11.13544 46.054385)\"^^<http://www.opengis.net/ont/geosparql#wktLiteral> .\n",
      "<http://www.example.org/shape2geosparql/stazioni/data/0_geom> <http://www.w3.org/1999/02/22-rdf-syntax-ns#type> <http://www.opengis.net/ont/sf#Point> .\n",
      "<http://www.example.org/shape2geosparql/stazioni/data/0> <http://www.example.org/shape2geosparql/stazioni/ontology/tratta> \"FFSS\" .\n",
      "<http://www.example.org/shape2geosparql/stazioni/data/4_geom> <http://www.w3.org/2003/01/geo/wgs84_pos#long> \"11.104855999999996\"^^<http://www.w3.org/2001/XMLSchema#double> .\n",
      "<http://www.example.org/shape2geosparql/stazioni/data/6> <http://www.example.org/shape2geosparql/stazioni/ontology/nome> \"VALS - S. Chiara\" .\n",
      "<http://www.example.org/shape2geosparql/stazioni/data/9_geom> <http://www.w3.org/2003/01/geo/wgs84_pos#long> \"11.142645999999996\"^^<http://www.w3.org/2001/XMLSchema#double> .\n",
      "<http://www.example.org/shape2geosparql/stazioni/data/3_geom> <http://github.com/nvitucci/shape2geosparql/ontology#asGeoJson> \"{ \\\"type\\\": \\\"Point\\\", \\\"coordinates\\\": [ 11.104558, 46.108097 ] }\" .\n",
      "<http://www.example.org/shape2geosparql/stazioni/data/7_geom> <http://www.w3.org/1999/02/22-rdf-syntax-ns#type> <http://www.opengis.net/ont/sf#Geometry> .\n",
      "<http://www.example.org/shape2geosparql/stazioni/data/4_geom> <http://www.w3.org/2003/01/geo/wgs84_pos#lat> \"46.11866699999999\"^^<http://www.w3.org/2001/XMLSchema#double> .\n",
      "<http://www.example.org/shape2geosparql/stazioni/data/2_geom> <http://www.w3.org/2003/01/geo/wgs84_pos#long> \"11.113059999999997\"^^<http://www.w3.org/2001/XMLSchema#double> .\n",
      "<http://www.example.org/shape2geosparql/stazioni/data/3_geom> <http://www.w3.org/1999/02/22-rdf-syntax-ns#type> <http://www.opengis.net/ont/sf#Point> .\n",
      "<http://www.example.org/shape2geosparql/stazioni/data/9_geom> <http://github.com/nvitucci/shape2geosparql/ontology#asGeoJson> \"{ \\\"type\\\": \\\"Point\\\", \\\"coordinates\\\": [ 11.142646, 46.06487 ] }\" .\n",
      "<http://www.example.org/shape2geosparql/stazioni/data/5_geom> <http://www.w3.org/2003/01/geo/wgs84_pos#lat> \"46.12595999999998\"^^<http://www.w3.org/2001/XMLSchema#double> .\n",
      "<http://www.example.org/shape2geosparql/stazioni/data/7_geom> <http://www.w3.org/2003/01/geo/wgs84_pos#lat> \"46.04745999999998\"^^<http://www.w3.org/2001/XMLSchema#double> .\n",
      "<http://www.example.org/shape2geosparql/stazioni/data/7> <http://www.w3.org/1999/02/22-rdf-syntax-ns#type> <http://www.opengis.net/ont/sf#Feature> .\n",
      "<http://www.example.org/shape2geosparql/stazioni/data/2> <http://www.w3.org/1999/02/22-rdf-syntax-ns#type> <http://www.opengis.net/ont/sf#Feature> .\n",
      "<http://www.example.org/shape2geosparql/stazioni/data/7> <http://www.example.org/shape2geosparql/stazioni/ontology/nome> \"VALS - S. Bartolomeo\" .\n",
      "<http://www.example.org/shape2geosparql/stazioni/data/0> <http://www.opengis.net/ont/geosparql#hasGeometry> <http://www.example.org/shape2geosparql/stazioni/data/0_geom> .\n",
      "<http://www.example.org/shape2geosparql/stazioni/data/2_geom> <http://www.w3.org/1999/02/22-rdf-syntax-ns#type> <http://www.opengis.net/ont/sf#Geometry> .\n",
      "<http://www.example.org/shape2geosparql/stazioni/data/9> <http://www.opengis.net/ont/geosparql#hasGeometry> <http://www.example.org/shape2geosparql/stazioni/data/9_geom> .\n",
      "<http://www.example.org/shape2geosparql/stazioni/data/3> <http://www.example.org/shape2geosparql/stazioni/ontology/tratta> \"FTM\" .\n",
      "<http://www.example.org/shape2geosparql/stazioni/data/0> <http://www.w3.org/1999/02/22-rdf-syntax-ns#type> <http://www.opengis.net/ont/sf#Feature> .\n",
      "<http://www.example.org/shape2geosparql/stazioni/data/2> <http://www.example.org/shape2geosparql/stazioni/ontology/tratta> \"FTM\" .\n",
      "<http://www.example.org/shape2geosparql/stazioni/data/3_geom> <http://www.opengis.net/ont/geosparql#asWKT> \"POINT (11.104558 46.108097)\"^^<http://www.opengis.net/ont/geosparql#wktLiteral> .\n",
      "<http://www.example.org/shape2geosparql/stazioni/data/5_geom> <http://www.w3.org/2003/01/geo/wgs84_pos#long> \"11.107592999999996\"^^<http://www.w3.org/2001/XMLSchema#double> .\n",
      "<http://www.example.org/shape2geosparql/stazioni/data/2_geom> <http://www.opengis.net/ont/geosparql#asWKT> \"POINT (11.11306 46.09014)\"^^<http://www.opengis.net/ont/geosparql#wktLiteral> .\n",
      "<http://www.example.org/shape2geosparql/stazioni/data/3> <http://www.example.org/shape2geosparql/stazioni/ontology/nome> \"FTM - Gardolo\" .\n",
      "<http://www.example.org/shape2geosparql/stazioni/data/5> <http://www.w3.org/1999/02/22-rdf-syntax-ns#type> <http://www.opengis.net/ont/sf#Feature> .\n",
      "<http://www.example.org/shape2geosparql/stazioni/data/3> <http://www.opengis.net/ont/geosparql#hasGeometry> <http://www.example.org/shape2geosparql/stazioni/data/3_geom> .\n",
      "<http://www.example.org/shape2geosparql/stazioni/data/8> <http://www.w3.org/1999/02/22-rdf-syntax-ns#type> <http://www.opengis.net/ont/sf#Feature> .\n",
      "<http://www.example.org/shape2geosparql/stazioni/data/2> <http://www.opengis.net/ont/geosparql#hasGeometry> <http://www.example.org/shape2geosparql/stazioni/data/2_geom> .\n",
      "<http://www.example.org/shape2geosparql/stazioni/data/1_geom> <http://www.opengis.net/ont/geosparql#asWKT> \"POINT (11.1208 46.07439)\"^^<http://www.opengis.net/ont/geosparql#wktLiteral> .\n",
      "<http://www.example.org/shape2geosparql/stazioni/data/4_geom> <http://www.w3.org/1999/02/22-rdf-syntax-ns#type> <http://www.opengis.net/ont/sf#Geometry> .\n",
      "<http://www.example.org/shape2geosparql/stazioni/data/0_geom> <http://www.w3.org/1999/02/22-rdf-syntax-ns#type> <http://www.opengis.net/ont/sf#Geometry> .\n",
      "<http://www.example.org/shape2geosparql/stazioni/data/5> <http://www.opengis.net/ont/geosparql#hasGeometry> <http://www.example.org/shape2geosparql/stazioni/data/5_geom> .\n",
      "<http://www.example.org/shape2geosparql/stazioni/data/7> <http://www.example.org/shape2geosparql/stazioni/ontology/tratta> \"VALSUGANA\" .\n",
      "<http://www.example.org/shape2geosparql/stazioni/data/9> <http://www.example.org/shape2geosparql/stazioni/ontology/nome> \"VALS - Povo Mesiano\" .\n",
      "<http://www.example.org/shape2geosparql/stazioni/data/7_geom> <http://www.w3.org/2003/01/geo/wgs84_pos#long> \"11.135146999999996\"^^<http://www.w3.org/2001/XMLSchema#double> .\n",
      "<http://www.example.org/shape2geosparql/stazioni/data/8_geom> <http://github.com/nvitucci/shape2geosparql/ontology#asGeoJson> \"{ \\\"type\\\": \\\"Point\\\", \\\"coordinates\\\": [ 11.139123, 46.045183 ] }\" .\n",
      "<http://www.example.org/shape2geosparql/stazioni/data/0_geom> <http://www.w3.org/2003/01/geo/wgs84_pos#long> \"11.120055999999998\"^^<http://www.w3.org/2001/XMLSchema#double> .\n",
      "<http://www.example.org/shape2geosparql/stazioni/data/7_geom> <http://www.w3.org/1999/02/22-rdf-syntax-ns#type> <http://www.opengis.net/ont/sf#Point> .\n",
      "<http://www.example.org/shape2geosparql/stazioni/data/1_geom> <http://github.com/nvitucci/shape2geosparql/ontology#asGeoJson> \"{ \\\"type\\\": \\\"Point\\\", \\\"coordinates\\\": [ 11.1208, 46.07439 ] }\" .\n",
      "<http://www.example.org/shape2geosparql/stazioni/data/8_geom> <http://www.w3.org/2003/01/geo/wgs84_pos#long> \"11.139122999999996\"^^<http://www.w3.org/2001/XMLSchema#double> .\n",
      "<http://www.example.org/shape2geosparql/stazioni/data/7_geom> <http://www.opengis.net/ont/geosparql#asWKT> \"POINT (11.135147 46.04746)\"^^<http://www.opengis.net/ont/geosparql#wktLiteral> .\n",
      "<http://www.example.org/shape2geosparql/stazioni/data/9> <http://www.example.org/shape2geosparql/stazioni/ontology/tratta> \"VALSUGANA\" .\n",
      "<http://www.example.org/shape2geosparql/stazioni/data/1_geom> <http://www.w3.org/2003/01/geo/wgs84_pos#long> \"11.120799999999996\"^^<http://www.w3.org/2001/XMLSchema#double> .\n",
      "<http://www.example.org/shape2geosparql/stazioni/data/9> <http://www.w3.org/1999/02/22-rdf-syntax-ns#type> <http://www.opengis.net/ont/sf#Feature> .\n",
      "<http://www.example.org/shape2geosparql/stazioni/data/8_geom> <http://www.w3.org/1999/02/22-rdf-syntax-ns#type> <http://www.opengis.net/ont/sf#Point> .\n",
      "<http://www.example.org/shape2geosparql/stazioni/data/6_geom> <http://www.w3.org/1999/02/22-rdf-syntax-ns#type> <http://www.opengis.net/ont/sf#Point> .\n",
      "<http://www.example.org/shape2geosparql/stazioni/data/8> <http://www.opengis.net/ont/geosparql#hasGeometry> <http://www.example.org/shape2geosparql/stazioni/data/8_geom> .\n",
      "<http://www.example.org/shape2geosparql/stazioni/data/8_geom> <http://www.opengis.net/ont/geosparql#asWKT> \"POINT (11.139123 46.045183)\"^^<http://www.opengis.net/ont/geosparql#wktLiteral> .\n",
      "<http://www.example.org/shape2geosparql/stazioni/data/9_geom> <http://www.w3.org/2003/01/geo/wgs84_pos#lat> \"46.064869999999985\"^^<http://www.w3.org/2001/XMLSchema#double> .\n",
      "<http://www.example.org/shape2geosparql/stazioni/data/1> <http://www.opengis.net/ont/geosparql#hasGeometry> <http://www.example.org/shape2geosparql/stazioni/data/1_geom> .\n",
      "<http://www.example.org/shape2geosparql/stazioni/data/4_geom> <http://www.w3.org/1999/02/22-rdf-syntax-ns#type> <http://www.opengis.net/ont/sf#Point> .\n",
      "<http://www.example.org/shape2geosparql/stazioni/data/3_geom> <http://www.w3.org/1999/02/22-rdf-syntax-ns#type> <http://www.opengis.net/ont/sf#Geometry> .\n",
      "<http://www.example.org/shape2geosparql/stazioni/data/6_geom> <http://www.w3.org/1999/02/22-rdf-syntax-ns#type> <http://www.opengis.net/ont/sf#Geometry> .\n",
      "<http://www.example.org/shape2geosparql/stazioni/data/8> <http://www.example.org/shape2geosparql/stazioni/ontology/tratta> \"VALSUGANA\" .\n",
      "<http://www.example.org/shape2geosparql/stazioni/data/3> <http://www.w3.org/1999/02/22-rdf-syntax-ns#type> <http://www.opengis.net/ont/sf#Feature> .\n",
      "<http://www.example.org/shape2geosparql/stazioni/data/5_geom> <http://github.com/nvitucci/shape2geosparql/ontology#asGeoJson> \"{ \\\"type\\\": \\\"Point\\\", \\\"coordinates\\\": [ 11.107593, 46.12596 ] }\" .\n",
      "<http://www.example.org/shape2geosparql/stazioni/data/2_geom> <http://www.w3.org/1999/02/22-rdf-syntax-ns#type> <http://www.opengis.net/ont/sf#Point> .\n",
      "<http://www.example.org/shape2geosparql/stazioni/data/2> <http://www.example.org/shape2geosparql/stazioni/ontology/nome> \"FTM - Commerciale\" .\n",
      "<http://www.example.org/shape2geosparql/stazioni/data/4_geom> <http://www.opengis.net/ont/geosparql#asWKT> \"POINT (11.104856 46.118667)\"^^<http://www.opengis.net/ont/geosparql#wktLiteral> .\n",
      "<http://www.example.org/shape2geosparql/stazioni/data/1_geom> <http://www.w3.org/1999/02/22-rdf-syntax-ns#type> <http://www.opengis.net/ont/sf#Point> .\n",
      "<http://www.example.org/shape2geosparql/stazioni/data/8_geom> <http://www.w3.org/2003/01/geo/wgs84_pos#lat> \"46.04518299999999\"^^<http://www.w3.org/2001/XMLSchema#double> .\n",
      "<http://www.example.org/shape2geosparql/stazioni/data/0_geom> <http://www.w3.org/2003/01/geo/wgs84_pos#lat> \"46.072599999999994\"^^<http://www.w3.org/2001/XMLSchema#double> .\n",
      "\n",
      "\n"
     ]
    }
   ],
   "source": [
    "# How do the triples look like?\n",
    "\n",
    "print(converter.write().decode())"
   ]
  },
  {
   "cell_type": "code",
   "execution_count": 409,
   "metadata": {},
   "outputs": [
    {
     "name": "stdout",
     "output_type": "stream",
     "text": [
      "@prefix ns1: <http://www.w3.org/2003/01/geo/wgs84_pos#> .\n",
      "@prefix ns2: <http://github.com/nvitucci/shape2geosparql/ontology#> .\n",
      "@prefix ns3: <http://www.example.org/shape2geosparql/stazioni/ontology/> .\n",
      "@prefix ns4: <http://www.opengis.net/ont/geosparql#> .\n",
      "@prefix rdf: <http://www.w3.org/1999/02/22-rdf-syntax-ns#> .\n",
      "@prefix rdfs: <http://www.w3.org/2000/01/rdf-schema#> .\n",
      "@prefix xml: <http://www.w3.org/XML/1998/namespace> .\n",
      "@prefix xsd: <http://www.w3.org/2001/XMLSchema#> .\n",
      "\n",
      "<http://www.example.org/shape2geosparql/stazioni/data/0> a <http://www.opengis.net/ont/sf#Feature> ;\n",
      "    ns3:nome \"FS - Trento\" ;\n",
      "    ns3:tratta \"FFSS\" ;\n",
      "    ns4:hasGeometry <http://www.example.org/shape2geosparql/stazioni/data/0_geom> .\n",
      "\n",
      "<http://www.example.org/shape2geosparql/stazioni/data/1> a <http://www.opengis.net/ont/sf#Feature> ;\n",
      "    ns3:nome \"FTM - Trento\" ;\n",
      "    ns3:tratta \"FTM\" ;\n",
      "    ns4:hasGeometry <http://www.example.org/shape2geosparql/stazioni/data/1_geom> .\n",
      "\n",
      "<http://www.example.org/shape2geosparql/stazioni/data/2> a <http://www.opengis.net/ont/sf#Feature> ;\n",
      "    ns3:nome \"FTM - Commerciale\" ;\n",
      "    ns3:tratta \"FTM\" ;\n",
      "    ns4:hasGeometry <http://www.example.org/shape2geosparql/stazioni/data/2_geom> .\n",
      "\n",
      "<http://www.example.org/shape2geosparql/stazioni/data/3> a <http://www.opengis.net/ont/sf#Feature> ;\n",
      "    ns3:nome \"FTM - Gardolo\" ;\n",
      "    ns3:tratta \"FTM\" ;\n",
      "    ns4:hasGeometry <http://www.example.org/shape2geosparql/stazioni/data/3_geom> .\n",
      "\n",
      "<http://www.example.org/shape2geosparql/stazioni/data/4> a <http://www.opengis.net/ont/sf#Feature> ;\n",
      "    ns3:nome \"FTM - Spini\" ;\n",
      "    ns3:tratta \"FTM\" ;\n",
      "    ns4:hasGeometry <http://www.example.org/shape2geosparql/stazioni/data/4_geom> .\n",
      "\n",
      "<http://www.example.org/shape2geosparql/stazioni/data/5> a <http://www.opengis.net/ont/sf#Feature> ;\n",
      "    ns3:nome \"FTM - Lamar\" ;\n",
      "    ns3:tratta \"FTM\" ;\n",
      "    ns4:hasGeometry <http://www.example.org/shape2geosparql/stazioni/data/5_geom> .\n",
      "\n",
      "<http://www.example.org/shape2geosparql/stazioni/data/6> a <http://www.opengis.net/ont/sf#Feature> ;\n",
      "    ns3:nome \"VALS - S. Chiara\" ;\n",
      "    ns3:tratta \"VALSUGANA\" ;\n",
      "    ns4:hasGeometry <http://www.example.org/shape2geosparql/stazioni/data/6_geom> .\n",
      "\n",
      "<http://www.example.org/shape2geosparql/stazioni/data/7> a <http://www.opengis.net/ont/sf#Feature> ;\n",
      "    ns3:nome \"VALS - S. Bartolomeo\" ;\n",
      "    ns3:tratta \"VALSUGANA\" ;\n",
      "    ns4:hasGeometry <http://www.example.org/shape2geosparql/stazioni/data/7_geom> .\n",
      "\n",
      "<http://www.example.org/shape2geosparql/stazioni/data/8> a <http://www.opengis.net/ont/sf#Feature> ;\n",
      "    ns3:nome \"VALS - Villazzano\" ;\n",
      "    ns3:tratta \"VALSUGANA\" ;\n",
      "    ns4:hasGeometry <http://www.example.org/shape2geosparql/stazioni/data/8_geom> .\n",
      "\n",
      "<http://www.example.org/shape2geosparql/stazioni/data/9> a <http://www.opengis.net/ont/sf#Feature> ;\n",
      "    ns3:nome \"VALS - Povo Mesiano\" ;\n",
      "    ns3:tratta \"VALSUGANA\" ;\n",
      "    ns4:hasGeometry <http://www.example.org/shape2geosparql/stazioni/data/9_geom> .\n",
      "\n",
      "<http://www.example.org/shape2geosparql/stazioni/data/0_geom> a <http://www.opengis.net/ont/sf#Geometry>,\n",
      "        <http://www.opengis.net/ont/sf#Point> ;\n",
      "    ns2:asGeoJson \"{ \\\"type\\\": \\\"Point\\\", \\\"coordinates\\\": [ 11.120056, 46.0726 ] }\" ;\n",
      "    ns4:asWKT \"POINT (11.120056 46.0726)\"^^ns4:wktLiteral ;\n",
      "    ns1:lat 4.60726e+01 ;\n",
      "    ns1:long 1.112006e+01 .\n",
      "\n",
      "<http://www.example.org/shape2geosparql/stazioni/data/1_geom> a <http://www.opengis.net/ont/sf#Geometry>,\n",
      "        <http://www.opengis.net/ont/sf#Point> ;\n",
      "    ns2:asGeoJson \"{ \\\"type\\\": \\\"Point\\\", \\\"coordinates\\\": [ 11.1208, 46.07439 ] }\" ;\n",
      "    ns4:asWKT \"POINT (11.1208 46.07439)\"^^ns4:wktLiteral ;\n",
      "    ns1:lat 4.607439e+01 ;\n",
      "    ns1:long 1.11208e+01 .\n",
      "\n",
      "<http://www.example.org/shape2geosparql/stazioni/data/2_geom> a <http://www.opengis.net/ont/sf#Geometry>,\n",
      "        <http://www.opengis.net/ont/sf#Point> ;\n",
      "    ns2:asGeoJson \"{ \\\"type\\\": \\\"Point\\\", \\\"coordinates\\\": [ 11.11306, 46.09014 ] }\" ;\n",
      "    ns4:asWKT \"POINT (11.11306 46.09014)\"^^ns4:wktLiteral ;\n",
      "    ns1:lat 4.609014e+01 ;\n",
      "    ns1:long 1.111306e+01 .\n",
      "\n",
      "<http://www.example.org/shape2geosparql/stazioni/data/3_geom> a <http://www.opengis.net/ont/sf#Geometry>,\n",
      "        <http://www.opengis.net/ont/sf#Point> ;\n",
      "    ns2:asGeoJson \"{ \\\"type\\\": \\\"Point\\\", \\\"coordinates\\\": [ 11.104558, 46.108097 ] }\" ;\n",
      "    ns4:asWKT \"POINT (11.104558 46.108097)\"^^ns4:wktLiteral ;\n",
      "    ns1:lat 4.61081e+01 ;\n",
      "    ns1:long 1.110456e+01 .\n",
      "\n",
      "<http://www.example.org/shape2geosparql/stazioni/data/4_geom> a <http://www.opengis.net/ont/sf#Geometry>,\n",
      "        <http://www.opengis.net/ont/sf#Point> ;\n",
      "    ns2:asGeoJson \"{ \\\"type\\\": \\\"Point\\\", \\\"coordinates\\\": [ 11.104856, 46.118667 ] }\" ;\n",
      "    ns4:asWKT \"POINT (11.104856 46.118667)\"^^ns4:wktLiteral ;\n",
      "    ns1:lat 4.611867e+01 ;\n",
      "    ns1:long 1.110486e+01 .\n",
      "\n",
      "<http://www.example.org/shape2geosparql/stazioni/data/5_geom> a <http://www.opengis.net/ont/sf#Geometry>,\n",
      "        <http://www.opengis.net/ont/sf#Point> ;\n",
      "    ns2:asGeoJson \"{ \\\"type\\\": \\\"Point\\\", \\\"coordinates\\\": [ 11.107593, 46.12596 ] }\" ;\n",
      "    ns4:asWKT \"POINT (11.107593 46.12596)\"^^ns4:wktLiteral ;\n",
      "    ns1:lat 4.612596e+01 ;\n",
      "    ns1:long 1.110759e+01 .\n",
      "\n",
      "<http://www.example.org/shape2geosparql/stazioni/data/6_geom> a <http://www.opengis.net/ont/sf#Geometry>,\n",
      "        <http://www.opengis.net/ont/sf#Point> ;\n",
      "    ns2:asGeoJson \"{ \\\"type\\\": \\\"Point\\\", \\\"coordinates\\\": [ 11.13544, 46.054385 ] }\" ;\n",
      "    ns4:asWKT \"POINT (11.13544 46.054385)\"^^ns4:wktLiteral ;\n",
      "    ns1:lat 4.605438e+01 ;\n",
      "    ns1:long 1.113544e+01 .\n",
      "\n",
      "<http://www.example.org/shape2geosparql/stazioni/data/7_geom> a <http://www.opengis.net/ont/sf#Geometry>,\n",
      "        <http://www.opengis.net/ont/sf#Point> ;\n",
      "    ns2:asGeoJson \"{ \\\"type\\\": \\\"Point\\\", \\\"coordinates\\\": [ 11.135147, 46.04746 ] }\" ;\n",
      "    ns4:asWKT \"POINT (11.135147 46.04746)\"^^ns4:wktLiteral ;\n",
      "    ns1:lat 4.604746e+01 ;\n",
      "    ns1:long 1.113515e+01 .\n",
      "\n",
      "<http://www.example.org/shape2geosparql/stazioni/data/8_geom> a <http://www.opengis.net/ont/sf#Geometry>,\n",
      "        <http://www.opengis.net/ont/sf#Point> ;\n",
      "    ns2:asGeoJson \"{ \\\"type\\\": \\\"Point\\\", \\\"coordinates\\\": [ 11.139123, 46.045183 ] }\" ;\n",
      "    ns4:asWKT \"POINT (11.139123 46.045183)\"^^ns4:wktLiteral ;\n",
      "    ns1:lat 4.604518e+01 ;\n",
      "    ns1:long 1.113912e+01 .\n",
      "\n",
      "<http://www.example.org/shape2geosparql/stazioni/data/9_geom> a <http://www.opengis.net/ont/sf#Geometry>,\n",
      "        <http://www.opengis.net/ont/sf#Point> ;\n",
      "    ns2:asGeoJson \"{ \\\"type\\\": \\\"Point\\\", \\\"coordinates\\\": [ 11.142646, 46.06487 ] }\" ;\n",
      "    ns4:asWKT \"POINT (11.142646 46.06487)\"^^ns4:wktLiteral ;\n",
      "    ns1:lat 4.606487e+01 ;\n",
      "    ns1:long 1.114265e+01 .\n",
      "\n",
      "\n"
     ]
    }
   ],
   "source": [
    "# A different serialization format can be used ('nt' being the default)\n",
    "\n",
    "print(converter.write(outformat='turtle').decode())"
   ]
  },
  {
   "cell_type": "code",
   "execution_count": 410,
   "metadata": {},
   "outputs": [
    {
     "name": "stdout",
     "output_type": "stream",
     "text": [
      "[{rdflib.term.Variable('feature'): rdflib.term.URIRef('http://www.example.org/shape2geosparql/stazioni/data/0'), rdflib.term.Variable('geojson'): rdflib.term.Literal('{ \"type\": \"Point\", \"coordinates\": [ 11.120056, 46.0726 ] }')}]\n"
     ]
    }
   ],
   "source": [
    "# Get the actual graph to run some SPARQL queries\n",
    "\n",
    "graph = converter.graph\n",
    "\n",
    "# The GeoSPARQL ontology does not define a property to serialize geometries as GeoJSON,\n",
    "# so we use the one defined in shape2geosparql; we also use the automatically-generated\n",
    "# ontology that describes the features\n",
    "geojson = graph.query('''\n",
    "    PREFIX geosparql: <http://www.opengis.net/ont/geosparql#>\n",
    "    PREFIX s2g: <http://github.com/nvitucci/shape2geosparql/ontology#>\n",
    "    PREFIX ont: <http://www.example.org/shape2geosparql/stazioni/ontology/>\n",
    "    \n",
    "    SELECT ?feature ?geojson\n",
    "    WHERE {\n",
    "        ?feature ont:nome \"FS - Trento\"; \n",
    "                 geosparql:hasGeometry ?geom .\n",
    "        ?geom s2g:asGeoJson ?geojson\n",
    "    }\n",
    "''')\n",
    "\n",
    "print(geojson.bindings)"
   ]
  },
  {
   "cell_type": "code",
   "execution_count": 411,
   "metadata": {},
   "outputs": [
    {
     "name": "stdout",
     "output_type": "stream",
     "text": [
      "{ \"type\": \"Point\", \"coordinates\": [ 11.120056, 46.0726 ] }\n"
     ]
    }
   ],
   "source": [
    "# Get the GeoJSON content\n",
    "geojson_value = str(geojson.bindings[0]['geojson'])\n",
    "\n",
    "print(geojson_value)"
   ]
  },
  {
   "cell_type": "markdown",
   "metadata": {},
   "source": [
    "### Displaying the points on a map"
   ]
  },
  {
   "cell_type": "code",
   "execution_count": 412,
   "metadata": {},
   "outputs": [],
   "source": [
    "# Create a map and center it on Trento, Italy\n",
    "m = Map(center=(46.07, 11.15), zoom=13)"
   ]
  },
  {
   "cell_type": "code",
   "execution_count": 413,
   "metadata": {},
   "outputs": [],
   "source": [
    "# Create a GeoJSON layer from our GeoJSON string\n",
    "geojson_layer = GeoJSON(data=json.loads(geojson_value))\n",
    "\n",
    "# Add the layer to the map\n",
    "m.add_layer(geojson_layer)"
   ]
  },
  {
   "cell_type": "code",
   "execution_count": 414,
   "metadata": {},
   "outputs": [
    {
     "data": {
      "application/vnd.jupyter.widget-view+json": {
       "model_id": "10a4eb25beec421dacefd2bfbe59eae1",
       "version_major": 2,
       "version_minor": 0
      },
      "text/plain": [
       "Map(center=[46.07, 11.15], controls=(ZoomControl(options=['position', 'zoom_in_text', 'zoom_in_title', 'zoom_o…"
      ]
     },
     "metadata": {},
     "output_type": "display_data"
    }
   ],
   "source": [
    "# Display the map\n",
    "m"
   ]
  },
  {
   "cell_type": "code",
   "execution_count": 415,
   "metadata": {},
   "outputs": [],
   "source": [
    "# Add all the points instead of just one\n",
    "\n",
    "geojson = graph.query('''\n",
    "    PREFIX geosparql: <http://www.opengis.net/ont/geosparql#>\n",
    "    PREFIX s2g: <http://github.com/nvitucci/shape2geosparql/ontology#>\n",
    "    PREFIX ont: <http://www.example.org/shape2geosparql/stazioni/ontology/>\n",
    "    \n",
    "    SELECT ?geom ?geojson\n",
    "    WHERE {\n",
    "        ?geom s2g:asGeoJson ?geojson\n",
    "    }\n",
    "''')\n",
    "\n",
    "geojson_values = map(lambda el: json.loads(str(el['geojson'])), geojson.bindings)"
   ]
  },
  {
   "cell_type": "code",
   "execution_count": 416,
   "metadata": {},
   "outputs": [
    {
     "data": {
      "application/vnd.jupyter.widget-view+json": {
       "model_id": "87829fbfc3f04a1b94f2ccbd48cadfd3",
       "version_major": 2,
       "version_minor": 0
      },
      "text/plain": [
       "Map(center=[46.07, 11.15], controls=(ZoomControl(options=['position', 'zoom_in_text', 'zoom_in_title', 'zoom_o…"
      ]
     },
     "metadata": {},
     "output_type": "display_data"
    }
   ],
   "source": [
    "# Display all the points on the map, one point per layer\n",
    "\n",
    "m = Map(center=(46.07, 11.15), zoom=12)\n",
    "\n",
    "for geojson_value in geojson_values:\n",
    "    geo_json = GeoJSON(data=geojson_value)\n",
    "    m.add_layer(geo_json)\n",
    "\n",
    "m"
   ]
  },
  {
   "cell_type": "markdown",
   "metadata": {},
   "source": [
    "### Displaying polygons on a map"
   ]
  },
  {
   "cell_type": "code",
   "execution_count": 417,
   "metadata": {},
   "outputs": [],
   "source": [
    "converter = convert('data/trento_parking/zone_parcheggio.shp')\n",
    "graph = converter.graph\n",
    "\n",
    "geojson = graph.query('''\n",
    "    PREFIX geosparql: <http://www.opengis.net/ont/geosparql#>\n",
    "    PREFIX s2g: <http://github.com/nvitucci/shape2geosparql/ontology#>\n",
    "    PREFIX ont: <http://www.example.org/shape2geosparql/stazioni/ontology/>\n",
    "    \n",
    "    SELECT ?geom ?geojson\n",
    "    WHERE {\n",
    "        ?geom s2g:asGeoJson ?geojson\n",
    "    }\n",
    "''')\n",
    "\n",
    "geojson_values = map(lambda el: json.loads(str(el['geojson'])), geojson.bindings)"
   ]
  },
  {
   "cell_type": "code",
   "execution_count": 418,
   "metadata": {},
   "outputs": [
    {
     "data": {
      "application/vnd.jupyter.widget-view+json": {
       "model_id": "2f1d6baa37b24e63973aa100adb20d52",
       "version_major": 2,
       "version_minor": 0
      },
      "text/plain": [
       "Map(center=[46.07, 11.15], controls=(ZoomControl(options=['position', 'zoom_in_text', 'zoom_in_title', 'zoom_o…"
      ]
     },
     "metadata": {},
     "output_type": "display_data"
    }
   ],
   "source": [
    "m = Map(center=(46.07, 11.15), zoom=13)\n",
    "\n",
    "# Define a style for the polygons\n",
    "style = {'color': 'blue', 'weight': 1.5, 'dashArray': '5', 'fillOpacity': 0.3}\n",
    "\n",
    "for geojson_value in geojson_values:\n",
    "    geo_json = GeoJSON(data=geojson_value, style=style)\n",
    "    m.add_layer(geo_json)\n",
    "\n",
    "m"
   ]
  },
  {
   "cell_type": "markdown",
   "metadata": {},
   "source": [
    "### Running geospatial queries\n",
    "\n",
    "In order to run the queries in the following section, Fuseki GeoSPARQL server must be running (see the README file)"
   ]
  },
  {
   "cell_type": "code",
   "execution_count": 419,
   "metadata": {},
   "outputs": [],
   "source": [
    "# Converting the first dataset again, for convenience\n",
    "converter = convert('data/trento_stations/stazioni.shp')"
   ]
  },
  {
   "cell_type": "code",
   "execution_count": 420,
   "metadata": {},
   "outputs": [],
   "source": [
    "# Both the query endpoint and the update endpoint are needed, since the\n",
    "# GeoSPARQL dataset has to be loaded on the server\n",
    "endpoint = SPARQLWrapper('http://localhost:3030/ds/sparql', updateEndpoint='http://localhost:3030/ds/update')"
   ]
  },
  {
   "cell_type": "code",
   "execution_count": 421,
   "metadata": {},
   "outputs": [
    {
     "data": {
      "text/plain": [
       "<SPARQLWrapper.Wrapper.QueryResult at 0x7f7a3486ce10>"
      ]
     },
     "execution_count": 421,
     "metadata": {},
     "output_type": "execute_result"
    }
   ],
   "source": [
    "# Insert the data with a standard \"INSERT DATA\" query; to do this, the data have to be:\n",
    "# - serialized in the 'nt' (N-Triples) format;\n",
    "# - reasonably small.\n",
    "# If the data are large, either insert them in batches or serialize them in a file to be uploaded.\n",
    "endpoint.setMethod(POST)\n",
    "endpoint.setQuery('INSERT DATA {%s}' % converter.write(outformat='nt').decode())\n",
    "\n",
    "# Nothing needs to be returned\n",
    "endpoint.query()"
   ]
  },
  {
   "cell_type": "code",
   "execution_count": 422,
   "metadata": {},
   "outputs": [],
   "source": [
    "endpoint.setMethod(GET)\n",
    "endpoint.setReturnFormat(JSON)\n",
    "\n",
    "# Besides the custom and the GeoSPARQL namespaces, two more namespaces are used:\n",
    "# - the \"units\" namespace, which defines the units (e.g. kilometers, meters, miles, etc.)\n",
    "# for the geospatial queries (see https://jena.apache.org/documentation/geosparql/index#units-uri)\n",
    "# - the Apache Jena geospatial filter functions namespace, to be used in FILTERs\n",
    "# (see https://jena.apache.org/documentation/geosparql/index#filter-functions)\n",
    "#\n",
    "# Other namespaces are available for more operations \n",
    "# (https://jena.apache.org/documentation/geosparql/index#apache-jena-spatial-functionswgs84-geo-predicates).\n",
    "#\n",
    "# In this query, we look for features within 1 km from the specified point having\n",
    "# latitude = 46.054385 and longitude = 11.13544.\n",
    "\n",
    "endpoint.setQuery('''\n",
    "    PREFIX geo: <http://www.opengis.net/ont/geosparql#>\n",
    "    PREFIX units: <http://www.opengis.net/def/uom/OGC/1.0/>\n",
    "    PREFIX spatialF: <http://jena.apache.org/function/spatial#>\n",
    "    PREFIX ont: <http://www.example.org/shape2geosparql/stazioni/ontology/>\n",
    "    \n",
    "    SELECT ?feature ?name ?geom \n",
    "    WHERE {\n",
    "        ?feature ont:nome ?name;\n",
    "                 geo:hasGeometry/geo:asWKT ?geom .\n",
    "        BIND (spatialF:convertLatLon(46.054385, 11.13544) AS ?point)\n",
    "        FILTER (spatialF:nearby(?geom, ?point, 1, units:kilometer))}\n",
    "''')\n",
    "\n",
    "res = endpoint.query()"
   ]
  },
  {
   "cell_type": "code",
   "execution_count": 408,
   "metadata": {},
   "outputs": [
    {
     "name": "stdout",
     "output_type": "stream",
     "text": [
      "{\n",
      "  \"head\": {\n",
      "    \"vars\": [\n",
      "      \"feature\",\n",
      "      \"name\",\n",
      "      \"geom\"\n",
      "    ]\n",
      "  },\n",
      "  \"results\": {\n",
      "    \"bindings\": [\n",
      "      {\n",
      "        \"feature\": {\n",
      "          \"type\": \"uri\",\n",
      "          \"value\": \"http://www.example.org/shape2geosparql/stazioni/data/6\"\n",
      "        },\n",
      "        \"name\": {\n",
      "          \"type\": \"literal\",\n",
      "          \"value\": \"VALS - S. Chiara\"\n",
      "        },\n",
      "        \"geom\": {\n",
      "          \"type\": \"literal\",\n",
      "          \"datatype\": \"http://www.opengis.net/ont/geosparql#wktLiteral\",\n",
      "          \"value\": \"POINT (11.13544 46.054385)\"\n",
      "        }\n",
      "      },\n",
      "      {\n",
      "        \"feature\": {\n",
      "          \"type\": \"uri\",\n",
      "          \"value\": \"http://www.example.org/shape2geosparql/stazioni/data/7\"\n",
      "        },\n",
      "        \"name\": {\n",
      "          \"type\": \"literal\",\n",
      "          \"value\": \"VALS - S. Bartolomeo\"\n",
      "        },\n",
      "        \"geom\": {\n",
      "          \"type\": \"literal\",\n",
      "          \"datatype\": \"http://www.opengis.net/ont/geosparql#wktLiteral\",\n",
      "          \"value\": \"POINT (11.135147 46.04746)\"\n",
      "        }\n",
      "      }\n",
      "    ]\n",
      "  }\n",
      "}\n"
     ]
    }
   ],
   "source": [
    "# See the results in JSON format\n",
    "print(json.dumps(res.convert(), indent=2))"
   ]
  }
 ],
 "metadata": {
  "kernelspec": {
   "display_name": "Python 3",
   "language": "python",
   "name": "python3"
  },
  "language_info": {
   "codemirror_mode": {
    "name": "ipython",
    "version": 3
   },
   "file_extension": ".py",
   "mimetype": "text/x-python",
   "name": "python",
   "nbconvert_exporter": "python",
   "pygments_lexer": "ipython3",
   "version": "3.7.6"
  }
 },
 "nbformat": 4,
 "nbformat_minor": 4
}
